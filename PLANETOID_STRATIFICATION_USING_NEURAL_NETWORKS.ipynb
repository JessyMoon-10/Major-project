{
  "cells": [
    {
      "cell_type": "code",
      "execution_count": null,
      "id": "7989633d",
      "metadata": {
        "id": "7989633d"
      },
      "outputs": [],
      "source": [
        "# Programming\n",
        "import pandas as pd\n",
        "import numpy as np"
      ]
    },
    {
      "cell_type": "code",
      "execution_count": null,
      "id": "ffa6f209",
      "metadata": {
        "id": "ffa6f209"
      },
      "outputs": [],
      "source": [
        "# Visualizations\n",
        "import matplotlib.pyplot as plt\n",
        "import seaborn as sns"
      ]
    },
    {
      "cell_type": "code",
      "execution_count": null,
      "id": "c09a613d",
      "metadata": {
        "id": "c09a613d"
      },
      "outputs": [],
      "source": [
        "# Other\n",
        "import missingno as msno\n",
        "import warnings\n",
        "warnings.filterwarnings(\"ignore\")"
      ]
    },
    {
      "cell_type": "code",
      "execution_count": null,
      "id": "a97fbe0b",
      "metadata": {
        "id": "a97fbe0b"
      },
      "outputs": [],
      "source": [
        "#loading dataset\n",
        "nasa = pd.read_csv(\"C:\\\\Users\\\\kanak\\\\OneDrive\\\\Desktop\\\\mpr\\\\nasa.csv\")\n",
        "del nasa['Name']\n",
        "del nasa['Neo Reference ID']\n",
        "del nasa[\"Close Approach Date\"]\n",
        "del nasa [\"Orbit Determination Date\"]\n",
        "del nasa[\"Orbiting Body\"]\n",
        "del nasa['Est Dia in Feet(max)']\n",
        "del nasa['Est Dia in Feet(min)']\n",
        "del nasa['Est Dia in M(max)']\n",
        "del nasa['Est Dia in Miles(max)']\n",
        "del nasa['Est Dia in Miles(min)']\n",
        "del nasa['Miles per hour']\n",
        "del nasa['Relative Velocity km per sec']\n",
        "del nasa['Equinox']\n",
        "del nasa['Epoch Date Close Approach']\n",
        "del nasa['Miss Dist.(Astronomical)']\n",
        "del nasa['Miss Dist.(lunar)']\n",
        "del nasa['Epoch Osculation']\n",
        "del nasa['Perihelion Time']"
      ]
    },
    {
      "cell_type": "code",
      "execution_count": null,
      "id": "ff18750b",
      "metadata": {
        "id": "ff18750b",
        "outputId": "8ee0fce5-f97b-4ae8-daaa-06b08ab53996"
      },
      "outputs": [
        {
          "data": {
            "text/html": [
              "<div>\n",
              "<style scoped>\n",
              "    .dataframe tbody tr th:only-of-type {\n",
              "        vertical-align: middle;\n",
              "    }\n",
              "\n",
              "    .dataframe tbody tr th {\n",
              "        vertical-align: top;\n",
              "    }\n",
              "\n",
              "    .dataframe thead th {\n",
              "        text-align: right;\n",
              "    }\n",
              "</style>\n",
              "<table border=\"1\" class=\"dataframe\">\n",
              "  <thead>\n",
              "    <tr style=\"text-align: right;\">\n",
              "      <th></th>\n",
              "      <th>Absolute Magnitude</th>\n",
              "      <th>Est Dia in KM(min)</th>\n",
              "      <th>Est Dia in KM(max)</th>\n",
              "      <th>Est Dia in M(min)</th>\n",
              "      <th>Relative Velocity km per hr</th>\n",
              "      <th>Miss Dist.(kilometers)</th>\n",
              "      <th>Miss Dist.(miles)</th>\n",
              "      <th>Orbit ID</th>\n",
              "      <th>Orbit Uncertainity</th>\n",
              "      <th>Minimum Orbit Intersection</th>\n",
              "      <th>...</th>\n",
              "      <th>Semi Major Axis</th>\n",
              "      <th>Inclination</th>\n",
              "      <th>Asc Node Longitude</th>\n",
              "      <th>Orbital Period</th>\n",
              "      <th>Perihelion Distance</th>\n",
              "      <th>Perihelion Arg</th>\n",
              "      <th>Aphelion Dist</th>\n",
              "      <th>Mean Anomaly</th>\n",
              "      <th>Mean Motion</th>\n",
              "      <th>Hazardous</th>\n",
              "    </tr>\n",
              "  </thead>\n",
              "  <tbody>\n",
              "    <tr>\n",
              "      <th>0</th>\n",
              "      <td>21.6</td>\n",
              "      <td>0.127220</td>\n",
              "      <td>0.284472</td>\n",
              "      <td>127.219879</td>\n",
              "      <td>22017.003799</td>\n",
              "      <td>62753692.0</td>\n",
              "      <td>38993336.0</td>\n",
              "      <td>17</td>\n",
              "      <td>5</td>\n",
              "      <td>0.025282</td>\n",
              "      <td>...</td>\n",
              "      <td>1.407011</td>\n",
              "      <td>6.025981</td>\n",
              "      <td>314.373913</td>\n",
              "      <td>609.599786</td>\n",
              "      <td>0.808259</td>\n",
              "      <td>57.257470</td>\n",
              "      <td>2.005764</td>\n",
              "      <td>264.837533</td>\n",
              "      <td>0.590551</td>\n",
              "      <td>True</td>\n",
              "    </tr>\n",
              "    <tr>\n",
              "      <th>1</th>\n",
              "      <td>21.3</td>\n",
              "      <td>0.146068</td>\n",
              "      <td>0.326618</td>\n",
              "      <td>146.067964</td>\n",
              "      <td>65210.346095</td>\n",
              "      <td>57298148.0</td>\n",
              "      <td>35603420.0</td>\n",
              "      <td>21</td>\n",
              "      <td>3</td>\n",
              "      <td>0.186935</td>\n",
              "      <td>...</td>\n",
              "      <td>1.107776</td>\n",
              "      <td>28.412996</td>\n",
              "      <td>136.717242</td>\n",
              "      <td>425.869294</td>\n",
              "      <td>0.718200</td>\n",
              "      <td>313.091975</td>\n",
              "      <td>1.497352</td>\n",
              "      <td>173.741112</td>\n",
              "      <td>0.845330</td>\n",
              "      <td>False</td>\n",
              "    </tr>\n",
              "    <tr>\n",
              "      <th>2</th>\n",
              "      <td>20.3</td>\n",
              "      <td>0.231502</td>\n",
              "      <td>0.517654</td>\n",
              "      <td>231.502122</td>\n",
              "      <td>27326.560182</td>\n",
              "      <td>7622911.5</td>\n",
              "      <td>4736657.5</td>\n",
              "      <td>22</td>\n",
              "      <td>0</td>\n",
              "      <td>0.043058</td>\n",
              "      <td>...</td>\n",
              "      <td>1.458824</td>\n",
              "      <td>4.237961</td>\n",
              "      <td>259.475979</td>\n",
              "      <td>643.580228</td>\n",
              "      <td>0.950791</td>\n",
              "      <td>248.415038</td>\n",
              "      <td>1.966857</td>\n",
              "      <td>292.893654</td>\n",
              "      <td>0.559371</td>\n",
              "      <td>True</td>\n",
              "    </tr>\n",
              "    <tr>\n",
              "      <th>3</th>\n",
              "      <td>27.4</td>\n",
              "      <td>0.008801</td>\n",
              "      <td>0.019681</td>\n",
              "      <td>8.801465</td>\n",
              "      <td>40225.948191</td>\n",
              "      <td>42683616.0</td>\n",
              "      <td>26522368.0</td>\n",
              "      <td>7</td>\n",
              "      <td>6</td>\n",
              "      <td>0.005512</td>\n",
              "      <td>...</td>\n",
              "      <td>1.255903</td>\n",
              "      <td>7.905894</td>\n",
              "      <td>57.173266</td>\n",
              "      <td>514.082140</td>\n",
              "      <td>0.983902</td>\n",
              "      <td>18.707701</td>\n",
              "      <td>1.527904</td>\n",
              "      <td>68.741007</td>\n",
              "      <td>0.700277</td>\n",
              "      <td>False</td>\n",
              "    </tr>\n",
              "    <tr>\n",
              "      <th>4</th>\n",
              "      <td>21.6</td>\n",
              "      <td>0.127220</td>\n",
              "      <td>0.284472</td>\n",
              "      <td>127.219879</td>\n",
              "      <td>35426.991794</td>\n",
              "      <td>61010824.0</td>\n",
              "      <td>37910368.0</td>\n",
              "      <td>25</td>\n",
              "      <td>1</td>\n",
              "      <td>0.034798</td>\n",
              "      <td>...</td>\n",
              "      <td>1.225615</td>\n",
              "      <td>16.793382</td>\n",
              "      <td>84.629307</td>\n",
              "      <td>495.597821</td>\n",
              "      <td>0.967687</td>\n",
              "      <td>158.263596</td>\n",
              "      <td>1.483543</td>\n",
              "      <td>135.142133</td>\n",
              "      <td>0.726395</td>\n",
              "      <td>True</td>\n",
              "    </tr>\n",
              "    <tr>\n",
              "      <th>5</th>\n",
              "      <td>19.6</td>\n",
              "      <td>0.319562</td>\n",
              "      <td>0.714562</td>\n",
              "      <td>319.561887</td>\n",
              "      <td>38911.838251</td>\n",
              "      <td>58759768.0</td>\n",
              "      <td>36511628.0</td>\n",
              "      <td>40</td>\n",
              "      <td>1</td>\n",
              "      <td>0.272213</td>\n",
              "      <td>...</td>\n",
              "      <td>1.323532</td>\n",
              "      <td>17.927751</td>\n",
              "      <td>178.971951</td>\n",
              "      <td>556.160556</td>\n",
              "      <td>0.577800</td>\n",
              "      <td>198.145969</td>\n",
              "      <td>2.069265</td>\n",
              "      <td>354.237368</td>\n",
              "      <td>0.647295</td>\n",
              "      <td>False</td>\n",
              "    </tr>\n",
              "    <tr>\n",
              "      <th>6</th>\n",
              "      <td>19.6</td>\n",
              "      <td>0.319562</td>\n",
              "      <td>0.714562</td>\n",
              "      <td>319.561887</td>\n",
              "      <td>38911.829716</td>\n",
              "      <td>58759532.0</td>\n",
              "      <td>36511480.0</td>\n",
              "      <td>43</td>\n",
              "      <td>1</td>\n",
              "      <td>0.272213</td>\n",
              "      <td>...</td>\n",
              "      <td>1.323532</td>\n",
              "      <td>17.927748</td>\n",
              "      <td>178.971953</td>\n",
              "      <td>556.160544</td>\n",
              "      <td>0.577800</td>\n",
              "      <td>198.145960</td>\n",
              "      <td>2.069265</td>\n",
              "      <td>354.237396</td>\n",
              "      <td>0.647295</td>\n",
              "      <td>False</td>\n",
              "    </tr>\n",
              "    <tr>\n",
              "      <th>7</th>\n",
              "      <td>19.2</td>\n",
              "      <td>0.384198</td>\n",
              "      <td>0.859093</td>\n",
              "      <td>384.197891</td>\n",
              "      <td>87918.782382</td>\n",
              "      <td>19324928.0</td>\n",
              "      <td>12007954.0</td>\n",
              "      <td>22</td>\n",
              "      <td>0</td>\n",
              "      <td>0.098758</td>\n",
              "      <td>...</td>\n",
              "      <td>1.237475</td>\n",
              "      <td>34.695127</td>\n",
              "      <td>112.562984</td>\n",
              "      <td>502.808758</td>\n",
              "      <td>0.680905</td>\n",
              "      <td>288.374651</td>\n",
              "      <td>1.794045</td>\n",
              "      <td>186.776932</td>\n",
              "      <td>0.715978</td>\n",
              "      <td>False</td>\n",
              "    </tr>\n",
              "    <tr>\n",
              "      <th>8</th>\n",
              "      <td>17.8</td>\n",
              "      <td>0.732074</td>\n",
              "      <td>1.636967</td>\n",
              "      <td>732.073989</td>\n",
              "      <td>62545.621813</td>\n",
              "      <td>53598364.0</td>\n",
              "      <td>33304478.0</td>\n",
              "      <td>100</td>\n",
              "      <td>0</td>\n",
              "      <td>0.109354</td>\n",
              "      <td>...</td>\n",
              "      <td>1.145551</td>\n",
              "      <td>22.215210</td>\n",
              "      <td>80.211132</td>\n",
              "      <td>447.837013</td>\n",
              "      <td>0.872705</td>\n",
              "      <td>353.422394</td>\n",
              "      <td>1.418397</td>\n",
              "      <td>182.236432</td>\n",
              "      <td>0.803864</td>\n",
              "      <td>False</td>\n",
              "    </tr>\n",
              "    <tr>\n",
              "      <th>9</th>\n",
              "      <td>21.5</td>\n",
              "      <td>0.133216</td>\n",
              "      <td>0.297879</td>\n",
              "      <td>133.215567</td>\n",
              "      <td>46438.594999</td>\n",
              "      <td>22709816.0</td>\n",
              "      <td>14111226.0</td>\n",
              "      <td>30</td>\n",
              "      <td>0</td>\n",
              "      <td>0.016907</td>\n",
              "      <td>...</td>\n",
              "      <td>0.876125</td>\n",
              "      <td>2.059577</td>\n",
              "      <td>2.613682</td>\n",
              "      <td>299.535161</td>\n",
              "      <td>0.393040</td>\n",
              "      <td>253.765937</td>\n",
              "      <td>1.359211</td>\n",
              "      <td>119.861382</td>\n",
              "      <td>1.201862</td>\n",
              "      <td>True</td>\n",
              "    </tr>\n",
              "  </tbody>\n",
              "</table>\n",
              "<p>10 rows × 22 columns</p>\n",
              "</div>"
            ],
            "text/plain": [
              "   Absolute Magnitude  Est Dia in KM(min)  Est Dia in KM(max)  \\\n",
              "0                21.6            0.127220            0.284472   \n",
              "1                21.3            0.146068            0.326618   \n",
              "2                20.3            0.231502            0.517654   \n",
              "3                27.4            0.008801            0.019681   \n",
              "4                21.6            0.127220            0.284472   \n",
              "5                19.6            0.319562            0.714562   \n",
              "6                19.6            0.319562            0.714562   \n",
              "7                19.2            0.384198            0.859093   \n",
              "8                17.8            0.732074            1.636967   \n",
              "9                21.5            0.133216            0.297879   \n",
              "\n",
              "   Est Dia in M(min)  Relative Velocity km per hr  Miss Dist.(kilometers)  \\\n",
              "0         127.219879                 22017.003799              62753692.0   \n",
              "1         146.067964                 65210.346095              57298148.0   \n",
              "2         231.502122                 27326.560182               7622911.5   \n",
              "3           8.801465                 40225.948191              42683616.0   \n",
              "4         127.219879                 35426.991794              61010824.0   \n",
              "5         319.561887                 38911.838251              58759768.0   \n",
              "6         319.561887                 38911.829716              58759532.0   \n",
              "7         384.197891                 87918.782382              19324928.0   \n",
              "8         732.073989                 62545.621813              53598364.0   \n",
              "9         133.215567                 46438.594999              22709816.0   \n",
              "\n",
              "   Miss Dist.(miles)  Orbit ID  Orbit Uncertainity  \\\n",
              "0         38993336.0        17                   5   \n",
              "1         35603420.0        21                   3   \n",
              "2          4736657.5        22                   0   \n",
              "3         26522368.0         7                   6   \n",
              "4         37910368.0        25                   1   \n",
              "5         36511628.0        40                   1   \n",
              "6         36511480.0        43                   1   \n",
              "7         12007954.0        22                   0   \n",
              "8         33304478.0       100                   0   \n",
              "9         14111226.0        30                   0   \n",
              "\n",
              "   Minimum Orbit Intersection  ...  Semi Major Axis  Inclination  \\\n",
              "0                    0.025282  ...         1.407011     6.025981   \n",
              "1                    0.186935  ...         1.107776    28.412996   \n",
              "2                    0.043058  ...         1.458824     4.237961   \n",
              "3                    0.005512  ...         1.255903     7.905894   \n",
              "4                    0.034798  ...         1.225615    16.793382   \n",
              "5                    0.272213  ...         1.323532    17.927751   \n",
              "6                    0.272213  ...         1.323532    17.927748   \n",
              "7                    0.098758  ...         1.237475    34.695127   \n",
              "8                    0.109354  ...         1.145551    22.215210   \n",
              "9                    0.016907  ...         0.876125     2.059577   \n",
              "\n",
              "   Asc Node Longitude  Orbital Period  Perihelion Distance  Perihelion Arg  \\\n",
              "0          314.373913      609.599786             0.808259       57.257470   \n",
              "1          136.717242      425.869294             0.718200      313.091975   \n",
              "2          259.475979      643.580228             0.950791      248.415038   \n",
              "3           57.173266      514.082140             0.983902       18.707701   \n",
              "4           84.629307      495.597821             0.967687      158.263596   \n",
              "5          178.971951      556.160556             0.577800      198.145969   \n",
              "6          178.971953      556.160544             0.577800      198.145960   \n",
              "7          112.562984      502.808758             0.680905      288.374651   \n",
              "8           80.211132      447.837013             0.872705      353.422394   \n",
              "9            2.613682      299.535161             0.393040      253.765937   \n",
              "\n",
              "   Aphelion Dist  Mean Anomaly  Mean Motion  Hazardous  \n",
              "0       2.005764    264.837533     0.590551       True  \n",
              "1       1.497352    173.741112     0.845330      False  \n",
              "2       1.966857    292.893654     0.559371       True  \n",
              "3       1.527904     68.741007     0.700277      False  \n",
              "4       1.483543    135.142133     0.726395       True  \n",
              "5       2.069265    354.237368     0.647295      False  \n",
              "6       2.069265    354.237396     0.647295      False  \n",
              "7       1.794045    186.776932     0.715978      False  \n",
              "8       1.418397    182.236432     0.803864      False  \n",
              "9       1.359211    119.861382     1.201862       True  \n",
              "\n",
              "[10 rows x 22 columns]"
            ]
          },
          "execution_count": 6,
          "metadata": {},
          "output_type": "execute_result"
        }
      ],
      "source": [
        "\n",
        "\n",
        "#getting top rows in a table\n",
        "nasa.head(10)"
      ]
    },
    {
      "cell_type": "code",
      "execution_count": null,
      "id": "264661da",
      "metadata": {
        "id": "264661da",
        "outputId": "7d39d7ae-9de4-43ea-e6a6-019c226d6388"
      },
      "outputs": [
        {
          "data": {
            "text/plain": [
              "<BarContainer object of 2 artists>"
            ]
          },
          "execution_count": 7,
          "metadata": {},
          "output_type": "execute_result"
        },
        {
          "data": {
            "image/png": "[encoded data removed]",
            "text/plain": [
              "<Figure size 432x288 with 1 Axes>"
            ]
          },
          "metadata": {
            "needs_background": "light"
          },
          "output_type": "display_data"
        }
      ],
      "source": [
        "import matplotlib.pyplot as plt\n",
        "true_samples = np.sum(nasa['Hazardous'] == True)\n",
        "false_samples = np.sum(nasa['Hazardous']==False)\n",
        "plt.bar([\"True\",\"False\"],height = [true_samples,false_samples])"
      ]
    },
    {
      "cell_type": "code",
      "execution_count": null,
      "id": "17d53428",
      "metadata": {
        "id": "17d53428",
        "outputId": "0eb36e03-9fd7-44b3-f5d0-4b5c1863ad2d"
      },
      "outputs": [
        {
          "data": {
            "text/plain": [
              "7109"
            ]
          },
          "execution_count": 28,
          "metadata": {},
          "output_type": "execute_result"
        }
      ],
      "source": [
        "#Extracting out the True samples using boolean mask\n",
        "\n",
        "nasa_true_mask = nasa['Hazardous'] ==True\n",
        "nasa_true = nasa[nasa_true_mask]\n",
        "len(nasa_true)"
      ]
    },
    {
      "cell_type": "code",
      "execution_count": null,
      "id": "eb09787d",
      "metadata": {
        "id": "eb09787d",
        "outputId": "d2f4f84b-6f70-4354-a3c5-79a3c4181c81"
      },
      "outputs": [
        {
          "data": {
            "text/plain": [
              "(11041, 22)"
            ]
          },
          "execution_count": 29,
          "metadata": {},
          "output_type": "execute_result"
        }
      ],
      "source": [
        "np.array(nasa).shape"
      ]
    },
    {
      "cell_type": "code",
      "execution_count": null,
      "id": "6580668b",
      "metadata": {
        "id": "6580668b"
      },
      "outputs": [],
      "source": [
        "bootstrap = nasa_true.sample(3177,replace=True)\n",
        "    \n",
        "nasa = nasa.append(bootstrap)"
      ]
    },
    {
      "cell_type": "code",
      "execution_count": null,
      "id": "fe10d509",
      "metadata": {
        "id": "fe10d509",
        "outputId": "f6e2c7b4-e970-49d9-86f8-79daa3fd70a7"
      },
      "outputs": [
        {
          "data": {
            "text/plain": [
              "(14218, 22)"
            ]
          },
          "execution_count": 31,
          "metadata": {},
          "output_type": "execute_result"
        }
      ],
      "source": [
        "nasa.shape"
      ]
    },
    {
      "cell_type": "code",
      "execution_count": null,
      "id": "345d046e",
      "metadata": {
        "id": "345d046e",
        "outputId": "d011d260-f4ba-4c70-e725-6d63abd10808"
      },
      "outputs": [
        {
          "data": {
            "application/javascript": [
              "\n",
              "        if (window._pyforest_update_imports_cell) { window._pyforest_update_imports_cell('import sklearn\\nfrom sklearn.model_selection import train_test_split'); }\n",
              "    "
            ],
            "text/plain": [
              "<IPython.core.display.Javascript object>"
            ]
          },
          "metadata": {},
          "output_type": "display_data"
        },
        {
          "data": {
            "application/javascript": [
              "\n",
              "        if (window._pyforest_update_imports_cell) { window._pyforest_update_imports_cell('import sklearn\\nfrom sklearn.model_selection import train_test_split'); }\n",
              "    "
            ],
            "text/plain": [
              "<IPython.core.display.Javascript object>"
            ]
          },
          "metadata": {},
          "output_type": "display_data"
        }
      ],
      "source": [
        "from sklearn.preprocessing import StandardScaler\n",
        "X,y = nasa.iloc[:,0:21],nasa.iloc[:,21]\n",
        "\n",
        "Scaler = sklearn.preprocessing.StandardScaler()\n",
        "Scaler.fit(X)\n",
        "X = Scaler.transform(X)\n",
        "\n",
        "binary = sklearn.preprocessing.LabelBinarizer(pos_label=1,neg_label=0)\n",
        "lb = binary.fit(y)\n",
        "y = lb.transform(y)"
      ]
    },
    {
      "cell_type": "code",
      "execution_count": null,
      "id": "c38ca55d",
      "metadata": {
        "id": "c38ca55d",
        "outputId": "bfa658b8-635e-4a2d-8b18-fc6747f58394"
      },
      "outputs": [
        {
          "data": {
            "application/javascript": [
              "\n",
              "        if (window._pyforest_update_imports_cell) { window._pyforest_update_imports_cell('import sklearn\\nfrom sklearn.model_selection import train_test_split'); }\n",
              "    "
            ],
            "text/plain": [
              "<IPython.core.display.Javascript object>"
            ]
          },
          "metadata": {},
          "output_type": "display_data"
        }
      ],
      "source": [
        "x_train,x_test,y_train,y_test = train_test_split(X,y,test_size=0.2,shuffle=True)"
      ]
    },
    {
      "cell_type": "code",
      "execution_count": null,
      "id": "96b90959",
      "metadata": {
        "id": "96b90959"
      },
      "outputs": [],
      "source": [
        "from keras.layers import Dense,Input\n",
        "from keras.models import Model\n",
        "\n",
        "def asteroid(input_shape=(21,)):\n",
        "\n",
        "  X_input = Input(shape=input_shape)\n",
        "  X = Dense(units=16,activation='relu')(X_input)\n",
        "  X = Dense(units=8,activation=\"relu\")(X)\n",
        "  X = Dense(units=1,activation='sigmoid')(X)\n",
        "\n",
        "  model = Model(inputs=X_input,outputs=X)\n",
        "\n",
        "  return model"
      ]
    },
    {
      "cell_type": "code",
      "execution_count": null,
      "id": "2f785961",
      "metadata": {
        "id": "2f785961"
      },
      "outputs": [],
      "source": [
        "asteroid = asteroid()"
      ]
    },
    {
      "cell_type": "code",
      "execution_count": null,
      "id": "7dda38f8",
      "metadata": {
        "id": "7dda38f8"
      },
      "outputs": [],
      "source": [
        "import keras.backend as K\n",
        "def f1(y_true, y_pred): #taken from old keras source code\n",
        "    true_positives = K.sum(K.round(K.clip(y_true * y_pred, 0, 1)))\n",
        "    possible_positives = K.sum(K.round(K.clip(y_true, 0, 1)))\n",
        "    predicted_positives = K.sum(K.round(K.clip(y_pred, 0, 1)))\n",
        "    precision = true_positives / (predicted_positives + K.epsilon())\n",
        "    recall = true_positives / (possible_positives + K.epsilon())\n",
        "    f1_val = 2*(precision*recall)/(precision+recall+K.epsilon())\n",
        "    return f1_val,precision,recall\n",
        "def precision(y_true, y_pred): #taken from old keras source code\n",
        "    true_positives = K.sum(K.round(K.clip(y_true * y_pred, 0, 1)))\n",
        "    possible_positives = K.sum(K.round(K.clip(y_true, 0, 1)))\n",
        "    predicted_positives = K.sum(K.round(K.clip(y_pred, 0, 1)))\n",
        "    precision = true_positives / (predicted_positives + K.epsilon())\n",
        "    recall = true_positives / (possible_positives + K.epsilon())\n",
        "    return precision   \n",
        "def recall(y_true, y_pred): #taken from old keras source code\n",
        "    true_positives = K.sum(K.round(K.clip(y_true * y_pred, 0, 1)))\n",
        "    possible_positives = K.sum(K.round(K.clip(y_true, 0, 1)))\n",
        "    predicted_positives = K.sum(K.round(K.clip(y_pred, 0, 1)))\n",
        "    precision = true_positives / (predicted_positives + K.epsilon())\n",
        "    recall = true_positives / (possible_positives + K.epsilon())\n",
        "    return recall   "
      ]
    },
    {
      "cell_type": "code",
      "execution_count": null,
      "id": "082a02db",
      "metadata": {
        "id": "082a02db"
      },
      "outputs": [],
      "source": [
        "\n",
        "asteroid.compile(optimizer='adam',loss=\"binary_crossentropy\",metrics=['accuracy',f1,precision,recall])"
      ]
    },
    {
      "cell_type": "code",
      "execution_count": null,
      "id": "a0fe8705",
      "metadata": {
        "id": "a0fe8705",
        "outputId": "bdbb7b57-a2bf-4bd5-cc23-ea5c9984357b"
      },
      "outputs": [
        {
          "name": "stdout",
          "output_type": "stream",
          "text": [
            "Epoch 1/100\n",
            "356/356 [==============================] - 7s 5ms/step - loss: 0.4472 - accuracy: 0.8378 - f1: 0.8917 - precision: 0.8564 - recall: 0.9297\n",
            "Epoch 2/100\n",
            "356/356 [==============================] - 2s 5ms/step - loss: 0.1500 - accuracy: 0.9492 - f1: 0.9659 - precision: 0.9430 - recall: 0.9898\n",
            "Epoch 3/100\n",
            "356/356 [==============================] - 2s 5ms/step - loss: 0.0884 - accuracy: 0.9715 - f1: 0.9808 - precision: 0.9665 - recall: 0.9954\n",
            "Epoch 4/100\n",
            "356/356 [==============================] - 2s 5ms/step - loss: 0.0668 - accuracy: 0.9797 - f1: 0.9861 - precision: 0.9751 - recall: 0.9974\n",
            "Epoch 5/100\n",
            "356/356 [==============================] - 2s 5ms/step - loss: 0.0537 - accuracy: 0.9839 - f1: 0.9891 - precision: 0.9797 - recall: 0.9986\n",
            "Epoch 6/100\n",
            "356/356 [==============================] - 2s 5ms/step - loss: 0.0446 - accuracy: 0.9868 - f1: 0.9908 - precision: 0.9830 - recall: 0.9989\n",
            "Epoch 7/100\n",
            "356/356 [==============================] - 2s 5ms/step - loss: 0.0374 - accuracy: 0.9885 - f1: 0.9922 - precision: 0.9852 - recall: 0.9993\n",
            "Epoch 8/100\n",
            "356/356 [==============================] - 2s 5ms/step - loss: 0.0317 - accuracy: 0.9908 - f1: 0.9937 - precision: 0.9883 - recall: 0.9993\n",
            "Epoch 9/100\n",
            "356/356 [==============================] - 2s 5ms/step - loss: 0.0272 - accuracy: 0.9922 - f1: 0.9947 - precision: 0.9898 - recall: 0.9996\n",
            "Epoch 10/100\n",
            "356/356 [==============================] - 2s 5ms/step - loss: 0.0239 - accuracy: 0.9931 - f1: 0.9952 - precision: 0.9911 - recall: 0.9994\n",
            "Epoch 11/100\n",
            "356/356 [==============================] - 2s 4ms/step - loss: 0.0218 - accuracy: 0.9937 - f1: 0.9956 - precision: 0.9923 - recall: 0.9989\n",
            "Epoch 12/100\n",
            "356/356 [==============================] - 1s 4ms/step - loss: 0.0183 - accuracy: 0.9954 - f1: 0.9969 - precision: 0.9942 - recall: 0.9995\n",
            "Epoch 13/100\n",
            "356/356 [==============================] - 1s 4ms/step - loss: 0.0169 - accuracy: 0.9955 - f1: 0.9970 - precision: 0.9944 - recall: 0.9997\n",
            "Epoch 14/100\n",
            "356/356 [==============================] - 1s 4ms/step - loss: 0.0143 - accuracy: 0.9963 - f1: 0.9974 - precision: 0.9954 - recall: 0.9994\n",
            "Epoch 15/100\n",
            "356/356 [==============================] - 1s 4ms/step - loss: 0.0134 - accuracy: 0.9963 - f1: 0.9974 - precision: 0.9953 - recall: 0.9995\n",
            "Epoch 16/100\n",
            "356/356 [==============================] - 1s 4ms/step - loss: 0.0118 - accuracy: 0.9969 - f1: 0.9978 - precision: 0.9959 - recall: 0.9998\n",
            "Epoch 17/100\n",
            "356/356 [==============================] - 2s 5ms/step - loss: 0.0115 - accuracy: 0.9966 - f1: 0.9977 - precision: 0.9958 - recall: 0.9997\n",
            "Epoch 18/100\n",
            "356/356 [==============================] - 2s 7ms/step - loss: 0.0109 - accuracy: 0.9968 - f1: 0.9978 - precision: 0.9960 - recall: 0.9996\n",
            "Epoch 19/100\n",
            "356/356 [==============================] - 2s 4ms/step - loss: 0.0107 - accuracy: 0.9969 - f1: 0.9979 - precision: 0.9964 - recall: 0.9994\n",
            "Epoch 20/100\n",
            "356/356 [==============================] - 1s 4ms/step - loss: 0.0089 - accuracy: 0.9976 - f1: 0.9984 - precision: 0.9971 - recall: 0.9996\n",
            "Epoch 21/100\n",
            "356/356 [==============================] - 1s 4ms/step - loss: 0.0084 - accuracy: 0.9975 - f1: 0.9982 - precision: 0.9967 - recall: 0.9998\n",
            "Epoch 22/100\n",
            "356/356 [==============================] - 1s 4ms/step - loss: 0.0079 - accuracy: 0.9980 - f1: 0.9986 - precision: 0.9974 - recall: 0.9997\n",
            "Epoch 23/100\n",
            "356/356 [==============================] - 1s 4ms/step - loss: 0.0071 - accuracy: 0.9978 - f1: 0.9985 - precision: 0.9973 - recall: 0.9997\n",
            "Epoch 24/100\n",
            "356/356 [==============================] - 1s 4ms/step - loss: 0.0068 - accuracy: 0.9978 - f1: 0.9985 - precision: 0.9973 - recall: 0.9998\n",
            "Epoch 25/100\n",
            "356/356 [==============================] - 2s 5ms/step - loss: 0.0087 - accuracy: 0.9975 - f1: 0.9983 - precision: 0.9973 - recall: 0.9994\n",
            "Epoch 26/100\n",
            "356/356 [==============================] - 1s 4ms/step - loss: 0.0063 - accuracy: 0.9979 - f1: 0.9985 - precision: 0.9974 - recall: 0.9996\n",
            "Epoch 27/100\n",
            "356/356 [==============================] - 1s 4ms/step - loss: 0.0060 - accuracy: 0.9985 - f1: 0.9989 - precision: 0.9980 - recall: 0.9999\n",
            "Epoch 28/100\n",
            "356/356 [==============================] - 1s 4ms/step - loss: 0.0063 - accuracy: 0.9981 - f1: 0.9987 - precision: 0.9980 - recall: 0.9993\n",
            "Epoch 29/100\n",
            "356/356 [==============================] - 1s 4ms/step - loss: 0.0055 - accuracy: 0.9982 - f1: 0.9987 - precision: 0.9976 - recall: 0.9998\n",
            "Epoch 30/100\n",
            "356/356 [==============================] - 1s 4ms/step - loss: 0.0050 - accuracy: 0.9987 - f1: 0.9991 - precision: 0.9981 - recall: 1.0000\n",
            "Epoch 31/100\n",
            "356/356 [==============================] - 1s 4ms/step - loss: 0.0050 - accuracy: 0.9986 - f1: 0.9990 - precision: 0.9981 - recall: 1.0000\n",
            "Epoch 32/100\n",
            "356/356 [==============================] - 2s 6ms/step - loss: 0.0041 - accuracy: 0.9988 - f1: 0.9992 - precision: 0.9984 - recall: 1.0000\n",
            "Epoch 33/100\n",
            "356/356 [==============================] - 2s 5ms/step - loss: 0.0044 - accuracy: 0.9989 - f1: 0.9992 - precision: 0.9987 - recall: 0.9998\n",
            "Epoch 34/100\n",
            "356/356 [==============================] - 1s 4ms/step - loss: 0.0040 - accuracy: 0.9990 - f1: 0.9993 - precision: 0.9988 - recall: 0.9999\n",
            "Epoch 35/100\n",
            "356/356 [==============================] - 1s 4ms/step - loss: 0.0037 - accuracy: 0.9988 - f1: 0.9992 - precision: 0.9983 - recall: 1.0000\n",
            "Epoch 36/100\n",
            "356/356 [==============================] - 1s 4ms/step - loss: 0.0033 - accuracy: 0.9990 - f1: 0.9993 - precision: 0.9987 - recall: 1.0000\n",
            "Epoch 37/100\n",
            "356/356 [==============================] - 2s 5ms/step - loss: 0.0039 - accuracy: 0.9989 - f1: 0.9993 - precision: 0.9989 - recall: 0.9996\n",
            "Epoch 38/100\n",
            "356/356 [==============================] - 2s 6ms/step - loss: 0.0049 - accuracy: 0.9985 - f1: 0.9990 - precision: 0.9984 - recall: 0.9996\n",
            "Epoch 39/100\n",
            "356/356 [==============================] - 2s 5ms/step - loss: 0.0027 - accuracy: 0.9995 - f1: 0.9996 - precision: 0.9993 - recall: 1.0000\n",
            "Epoch 40/100\n",
            "356/356 [==============================] - 2s 5ms/step - loss: 0.0028 - accuracy: 0.9995 - f1: 0.9996 - precision: 0.9992 - recall: 1.0000\n",
            "Epoch 41/100\n",
            "356/356 [==============================] - 2s 5ms/step - loss: 0.0026 - accuracy: 0.9994 - f1: 0.9996 - precision: 0.9994 - recall: 0.9998\n",
            "Epoch 42/100\n",
            "356/356 [==============================] - 2s 5ms/step - loss: 0.0021 - accuracy: 0.9997 - f1: 0.9998 - precision: 0.9997 - recall: 1.0000\n",
            "Epoch 43/100\n",
            "356/356 [==============================] - 2s 5ms/step - loss: 0.0023 - accuracy: 0.9996 - f1: 0.9997 - precision: 0.9994 - recall: 1.0000\n",
            "Epoch 44/100\n",
            "356/356 [==============================] - 2s 5ms/step - loss: 0.0026 - accuracy: 0.9994 - f1: 0.9996 - precision: 0.9993 - recall: 0.9999\n",
            "Epoch 45/100\n",
            "356/356 [==============================] - 2s 5ms/step - loss: 0.0035 - accuracy: 0.9989 - f1: 0.9993 - precision: 0.9989 - recall: 0.9996\n",
            "Epoch 46/100\n",
            "356/356 [==============================] - 2s 5ms/step - loss: 0.0021 - accuracy: 0.9995 - f1: 0.9996 - precision: 0.9992 - recall: 1.0000\n",
            "Epoch 47/100\n",
            "356/356 [==============================] - 2s 5ms/step - loss: 0.0022 - accuracy: 0.9995 - f1: 0.9996 - precision: 0.9994 - recall: 0.9999\n",
            "Epoch 48/100\n",
            "356/356 [==============================] - 1s 4ms/step - loss: 0.0021 - accuracy: 0.9992 - f1: 0.9995 - precision: 0.9989 - recall: 1.0000\n",
            "Epoch 49/100\n",
            "356/356 [==============================] - 2s 4ms/step - loss: 0.0018 - accuracy: 0.9993 - f1: 0.9995 - precision: 0.9992 - recall: 0.9999\n",
            "Epoch 50/100\n",
            "356/356 [==============================] - 2s 5ms/step - loss: 0.0017 - accuracy: 0.9997 - f1: 0.9998 - precision: 0.9997 - recall: 1.0000\n",
            "Epoch 51/100\n",
            "356/356 [==============================] - 2s 6ms/step - loss: 0.0013 - accuracy: 0.9999 - f1: 0.9999 - precision: 0.9999 - recall: 1.0000\n",
            "Epoch 52/100\n",
            "356/356 [==============================] - 2s 5ms/step - loss: 0.0015 - accuracy: 0.9997 - f1: 0.9998 - precision: 0.9996 - recall: 1.0000\n",
            "Epoch 53/100\n",
            "356/356 [==============================] - 2s 5ms/step - loss: 0.0035 - accuracy: 0.9989 - f1: 0.9992 - precision: 0.9988 - recall: 0.9997\n",
            "Epoch 54/100\n"
          ]
        },
        {
          "name": "stdout",
          "output_type": "stream",
          "text": [
            "356/356 [==============================] - 2s 5ms/step - loss: 0.0084 - accuracy: 0.9976 - f1: 0.9984 - precision: 0.9979 - recall: 0.9989\n",
            "Epoch 55/100\n",
            "356/356 [==============================] - 2s 5ms/step - loss: 0.0029 - accuracy: 0.9992 - f1: 0.9994 - precision: 0.9991 - recall: 0.9998\n",
            "Epoch 56/100\n",
            "356/356 [==============================] - 2s 5ms/step - loss: 0.0014 - accuracy: 0.9995 - f1: 0.9996 - precision: 0.9992 - recall: 1.0000\n",
            "Epoch 57/100\n",
            "356/356 [==============================] - 2s 4ms/step - loss: 0.0010 - accuracy: 0.9999 - f1: 0.9999 - precision: 0.9999 - recall: 1.0000\n",
            "Epoch 58/100\n",
            "356/356 [==============================] - 1s 4ms/step - loss: 9.7280e-04 - accuracy: 0.9998 - f1: 0.9999 - precision: 0.9998 - recall: 1.0000\n",
            "Epoch 59/100\n",
            "356/356 [==============================] - 1s 4ms/step - loss: 8.6188e-04 - accuracy: 1.0000 - f1: 1.0000 - precision: 1.0000 - recall: 1.0000\n",
            "Epoch 60/100\n",
            "356/356 [==============================] - 1s 4ms/step - loss: 0.0018 - accuracy: 0.9992 - f1: 0.9995 - precision: 0.9993 - recall: 0.9997\n",
            "Epoch 61/100\n",
            "356/356 [==============================] - 1s 4ms/step - loss: 0.0019 - accuracy: 0.9995 - f1: 0.9996 - precision: 0.9994 - recall: 0.9999\n",
            "Epoch 62/100\n",
            "356/356 [==============================] - 2s 5ms/step - loss: 8.8876e-04 - accuracy: 0.9998 - f1: 0.9999 - precision: 0.9998 - recall: 1.0000\n",
            "Epoch 63/100\n",
            "356/356 [==============================] - 2s 5ms/step - loss: 7.4210e-04 - accuracy: 1.0000 - f1: 1.0000 - precision: 1.0000 - recall: 1.0000\n",
            "Epoch 64/100\n",
            "356/356 [==============================] - 1s 4ms/step - loss: 8.0599e-04 - accuracy: 0.9999 - f1: 0.9999 - precision: 0.9999 - recall: 1.0000\n",
            "Epoch 65/100\n",
            "356/356 [==============================] - 1s 4ms/step - loss: 6.6409e-04 - accuracy: 1.0000 - f1: 1.0000 - precision: 1.0000 - recall: 1.0000\n",
            "Epoch 66/100\n",
            "356/356 [==============================] - 2s 4ms/step - loss: 6.5787e-04 - accuracy: 1.0000 - f1: 1.0000 - precision: 1.0000 - recall: 1.0000\n",
            "Epoch 67/100\n",
            "356/356 [==============================] - 1s 4ms/step - loss: 0.0012 - accuracy: 0.9996 - f1: 0.9998 - precision: 0.9997 - recall: 0.9998\n",
            "Epoch 68/100\n",
            "356/356 [==============================] - 1s 4ms/step - loss: 0.0048 - accuracy: 0.9985 - f1: 0.9990 - precision: 0.9985 - recall: 0.9994\n",
            "Epoch 69/100\n",
            "356/356 [==============================] - 1s 4ms/step - loss: 0.0012 - accuracy: 0.9997 - f1: 0.9998 - precision: 0.9998 - recall: 0.9999\n",
            "Epoch 70/100\n",
            "356/356 [==============================] - 1s 4ms/step - loss: 6.4531e-04 - accuracy: 1.0000 - f1: 1.0000 - precision: 1.0000 - recall: 1.0000\n",
            "Epoch 71/100\n",
            "356/356 [==============================] - 1s 4ms/step - loss: 4.6561e-04 - accuracy: 1.0000 - f1: 1.0000 - precision: 1.0000 - recall: 1.0000\n",
            "Epoch 72/100\n",
            "356/356 [==============================] - 1s 4ms/step - loss: 4.6232e-04 - accuracy: 1.0000 - f1: 1.0000 - precision: 1.0000 - recall: 1.0000\n",
            "Epoch 73/100\n",
            "356/356 [==============================] - 2s 4ms/step - loss: 6.7242e-04 - accuracy: 0.9999 - f1: 0.9999 - precision: 0.9999 - recall: 1.0000\n",
            "Epoch 74/100\n",
            "356/356 [==============================] - 1s 4ms/step - loss: 5.0366e-04 - accuracy: 1.0000 - f1: 1.0000 - precision: 1.0000 - recall: 1.0000\n",
            "Epoch 75/100\n",
            "356/356 [==============================] - 1s 4ms/step - loss: 7.3417e-04 - accuracy: 0.9999 - f1: 0.9999 - precision: 0.9998 - recall: 1.0000\n",
            "Epoch 76/100\n",
            "356/356 [==============================] - 2s 6ms/step - loss: 0.0036 - accuracy: 0.9987 - f1: 0.9991 - precision: 0.9990 - recall: 0.9991\n",
            "Epoch 77/100\n",
            "356/356 [==============================] - 2s 6ms/step - loss: 7.2382e-04 - accuracy: 0.9998 - f1: 0.9999 - precision: 0.9998 - recall: 1.0000\n",
            "Epoch 78/100\n",
            "356/356 [==============================] - 2s 5ms/step - loss: 0.0017 - accuracy: 0.9994 - f1: 0.9995 - precision: 0.9995 - recall: 0.9996\n",
            "Epoch 79/100\n",
            "356/356 [==============================] - 2s 4ms/step - loss: 4.8266e-04 - accuracy: 0.9999 - f1: 0.9999 - precision: 0.9999 - recall: 1.0000\n",
            "Epoch 80/100\n",
            "356/356 [==============================] - 2s 4ms/step - loss: 2.8134e-04 - accuracy: 1.0000 - f1: 1.0000 - precision: 1.0000 - recall: 1.0000\n",
            "Epoch 81/100\n",
            "356/356 [==============================] - 1s 4ms/step - loss: 3.6404e-04 - accuracy: 1.0000 - f1: 1.0000 - precision: 1.0000 - recall: 1.0000\n",
            "Epoch 82/100\n",
            "356/356 [==============================] - 1s 4ms/step - loss: 3.7381e-04 - accuracy: 1.0000 - f1: 1.0000 - precision: 1.0000 - recall: 1.0000\n",
            "Epoch 83/100\n",
            "356/356 [==============================] - 1s 4ms/step - loss: 2.1646e-04 - accuracy: 1.0000 - f1: 1.0000 - precision: 1.0000 - recall: 1.0000\n",
            "Epoch 84/100\n",
            "356/356 [==============================] - 2s 4ms/step - loss: 2.7510e-04 - accuracy: 1.0000 - f1: 1.0000 - precision: 1.0000 - recall: 1.0000\n",
            "Epoch 85/100\n",
            "356/356 [==============================] - 1s 4ms/step - loss: 2.6150e-04 - accuracy: 1.0000 - f1: 1.0000 - precision: 1.0000 - recall: 1.0000\n",
            "Epoch 86/100\n",
            "356/356 [==============================] - 2s 4ms/step - loss: 2.5090e-04 - accuracy: 1.0000 - f1: 1.0000 - precision: 1.0000 - recall: 1.0000\n",
            "Epoch 87/100\n",
            "356/356 [==============================] - 1s 4ms/step - loss: 0.0025 - accuracy: 0.9989 - f1: 0.9991 - precision: 0.9990 - recall: 0.9993\n",
            "Epoch 88/100\n",
            "356/356 [==============================] - 2s 4ms/step - loss: 0.0088 - accuracy: 0.9986 - f1: 0.9991 - precision: 0.9991 - recall: 0.9990\n",
            "Epoch 89/100\n",
            "356/356 [==============================] - 1s 4ms/step - loss: 2.3295e-04 - accuracy: 1.0000 - f1: 1.0000 - precision: 1.0000 - recall: 1.0000\n",
            "Epoch 90/100\n",
            "356/356 [==============================] - 2s 4ms/step - loss: 1.9917e-04 - accuracy: 1.0000 - f1: 1.0000 - precision: 1.0000 - recall: 1.0000\n",
            "Epoch 91/100\n",
            "356/356 [==============================] - 1s 4ms/step - loss: 2.0637e-04 - accuracy: 1.0000 - f1: 1.0000 - precision: 1.0000 - recall: 1.0000\n",
            "Epoch 92/100\n",
            "356/356 [==============================] - 1s 4ms/step - loss: 1.8366e-04 - accuracy: 1.0000 - f1: 1.0000 - precision: 1.0000 - recall: 1.0000\n",
            "Epoch 93/100\n",
            "356/356 [==============================] - 1s 4ms/step - loss: 1.6507e-04 - accuracy: 1.0000 - f1: 1.0000 - precision: 1.0000 - recall: 1.0000\n",
            "Epoch 94/100\n",
            "356/356 [==============================] - 2s 4ms/step - loss: 1.6912e-04 - accuracy: 1.0000 - f1: 1.0000 - precision: 1.0000 - recall: 1.0000\n",
            "Epoch 95/100\n",
            "356/356 [==============================] - 1s 4ms/step - loss: 1.8050e-04 - accuracy: 1.0000 - f1: 1.0000 - precision: 1.0000 - recall: 1.0000\n",
            "Epoch 96/100\n",
            "356/356 [==============================] - 2s 5ms/step - loss: 1.5435e-04 - accuracy: 1.0000 - f1: 1.0000 - precision: 1.0000 - recall: 1.0000\n",
            "Epoch 97/100\n",
            "356/356 [==============================] - 2s 4ms/step - loss: 1.9893e-04 - accuracy: 1.0000 - f1: 1.0000 - precision: 1.0000 - recall: 1.0000\n",
            "Epoch 98/100\n",
            "356/356 [==============================] - 1s 4ms/step - loss: 1.9721e-04 - accuracy: 1.0000 - f1: 1.0000 - precision: 1.0000 - recall: 1.0000\n",
            "Epoch 99/100\n",
            "356/356 [==============================] - 1s 4ms/step - loss: 0.0062 - accuracy: 0.9989 - f1: 0.9992 - precision: 0.9990 - recall: 0.9994\n",
            "Epoch 100/100\n",
            "356/356 [==============================] - 2s 4ms/step - loss: 0.0073 - accuracy: 0.9989 - f1: 0.9993 - precision: 0.9992 - recall: 0.9994\n"
          ]
        },
        {
          "data": {
            "text/plain": [
              "<keras.callbacks.History at 0x2836d2ae700>"
            ]
          },
          "execution_count": 38,
          "metadata": {},
          "output_type": "execute_result"
        }
      ],
      "source": [
        "#Training Neural Network\n",
        "\n",
        "asteroid.fit(x=x_train,y=y_train,epochs=100)"
      ]
    },
    {
      "cell_type": "code",
      "execution_count": null,
      "id": "23fdf74f",
      "metadata": {
        "id": "23fdf74f",
        "outputId": "cbbf0c51-f488-4181-8151-512cc63e0779"
      },
      "outputs": [
        {
          "name": "stdout",
          "output_type": "stream",
          "text": [
            "89/89 [==============================] - 1s 3ms/step\n"
          ]
        }
      ],
      "source": [
        "y_pred = asteroid.predict(x=x_test)"
      ]
    },
    {
      "cell_type": "code",
      "execution_count": null,
      "id": "c332f0b3",
      "metadata": {
        "id": "c332f0b3",
        "outputId": "1f7994f6-0428-4cd4-bba3-c1fd257c988a"
      },
      "outputs": [
        {
          "name": "stdout",
          "output_type": "stream",
          "text": [
            "[[6.0137763e-21]\n",
            " [1.0000000e+00]\n",
            " [4.8886095e-27]\n",
            " ...\n",
            " [1.0000000e+00]\n",
            " [9.9996167e-01]\n",
            " [9.9934292e-01]]\n"
          ]
        }
      ],
      "source": [
        "print(y_pred)"
      ]
    },
    {
      "cell_type": "code",
      "execution_count": null,
      "id": "935251d3",
      "metadata": {
        "id": "935251d3",
        "outputId": "3beb32cc-ef46-4ed5-934a-3e386a0ad869"
      },
      "outputs": [
        {
          "data": {
            "application/javascript": [
              "\n",
              "        if (window._pyforest_update_imports_cell) { window._pyforest_update_imports_cell('import sklearn\\nfrom sklearn.model_selection import train_test_split'); }\n",
              "    "
            ],
            "text/plain": [
              "<IPython.core.display.Javascript object>"
            ]
          },
          "metadata": {},
          "output_type": "display_data"
        },
        {
          "name": "stdout",
          "output_type": "stream",
          "text": [
            "[[ 792    8]\n",
            " [   0 2044]]\n"
          ]
        },
        {
          "data": {
            "text/plain": [
              "<AxesSubplot:>"
            ]
          },
          "execution_count": 42,
          "metadata": {},
          "output_type": "execute_result"
        },
        {
          "data": {
            "image/png": "[encoded data removed]",
            "text/plain": [
              "<Figure size 432x288 with 2 Axes>"
            ]
          },
          "metadata": {
            "needs_background": "light"
          },
          "output_type": "display_data"
        }
      ],
      "source": [
        "for i in range(len(y_pred)):\n",
        "\n",
        "  if (y_pred[i] >= 0.5):\n",
        "    y_pred[i]=1\n",
        "  else :\n",
        "    y_pred[i] = 0\n",
        "matrix = sklearn.metrics.confusion_matrix(y_test, y_pred)\n",
        "print(matrix)\n",
        "import seaborn\n",
        "seaborn.heatmap(matrix,annot=True,fmt='d')"
      ]
    },
    {
      "cell_type": "code",
      "execution_count": null,
      "id": "7beabc1b",
      "metadata": {
        "id": "7beabc1b",
        "outputId": "3edda1eb-b8f7-4488-b150-fcfe3c4808ab"
      },
      "outputs": [
        {
          "name": "stdout",
          "output_type": "stream",
          "text": [
            "89/89 [==============================] - 1s 5ms/step - loss: 0.0131 - accuracy: 0.9972 - f1: 0.9980 - precision: 0.9961 - recall: 1.0000\n"
          ]
        }
      ],
      "source": [
        "accuracy = asteroid.evaluate(x_test, y_test)"
      ]
    },
    {
      "cell_type": "code",
      "execution_count": null,
      "id": "39149e8b",
      "metadata": {
        "id": "39149e8b"
      },
      "outputs": [],
      "source": []
    },
    {
      "cell_type": "code",
      "execution_count": null,
      "id": "b8e5f827",
      "metadata": {
        "id": "b8e5f827"
      },
      "outputs": [],
      "source": []
    }
  ],
  "metadata": {
    "kernelspec": {
      "display_name": "Python 3 (ipykernel)",
      "language": "python",
      "name": "python3"
    },
    "language_info": {
      "codemirror_mode": {
        "name": "ipython",
        "version": 3
      },
      "file_extension": ".py",
      "mimetype": "text/x-python",
      "name": "python",
      "nbconvert_exporter": "python",
      "pygments_lexer": "ipython3",
      "version": "3.9.12"
    },
    "colab": {
      "provenance": []
    }
  },
  "nbformat": 4,
  "nbformat_minor": 5
}