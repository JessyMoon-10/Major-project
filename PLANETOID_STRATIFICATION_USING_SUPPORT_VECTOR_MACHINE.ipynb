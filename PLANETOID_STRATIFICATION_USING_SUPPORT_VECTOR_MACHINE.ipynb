{
  "cells": [
    {
      "cell_type": "code",
      "execution_count": null,
      "id": "ecc40474",
      "metadata": {
        "id": "ecc40474"
      },
      "outputs": [],
      "source": [
        "# Programming\n",
        "import pandas as pd\n",
        "import numpy as np"
      ]
    },
    {
      "cell_type": "code",
      "execution_count": null,
      "id": "91dc308a",
      "metadata": {
        "id": "91dc308a"
      },
      "outputs": [],
      "source": [
        "# Visualizations\n",
        "import matplotlib.pyplot as plt\n",
        "import seaborn as sns"
      ]
    },
    {
      "cell_type": "code",
      "execution_count": null,
      "id": "d592f77d",
      "metadata": {
        "id": "d592f77d"
      },
      "outputs": [],
      "source": [
        "# Other\n",
        "import missingno as msno\n",
        "import warnings\n",
        "warnings.filterwarnings(\"ignore\")"
      ]
    },
    {
      "cell_type": "code",
      "execution_count": null,
      "id": "0429a510",
      "metadata": {
        "id": "0429a510"
      },
      "outputs": [],
      "source": [
        "#loading dataset\n",
        "nasa = pd.read_csv(\"C:\\\\Users\\\\kanak\\\\OneDrive\\\\Desktop\\\\mpr\\\\nasa.csv\")\n",
        "del nasa['Name']\n",
        "del nasa['Neo Reference ID']\n",
        "del nasa[\"Close Approach Date\"]\n",
        "del nasa [\"Orbit Determination Date\"]\n",
        "del nasa[\"Orbiting Body\"]\n",
        "del nasa['Est Dia in Feet(max)']\n",
        "del nasa['Est Dia in Feet(min)']\n",
        "del nasa['Est Dia in M(max)']\n",
        "del nasa['Est Dia in Miles(max)']\n",
        "del nasa['Est Dia in Miles(min)']\n",
        "del nasa['Miles per hour']\n",
        "del nasa['Relative Velocity km per sec']\n",
        "del nasa['Equinox']\n",
        "del nasa['Epoch Date Close Approach']\n",
        "del nasa['Miss Dist.(Astronomical)']\n",
        "del nasa['Miss Dist.(lunar)']\n",
        "del nasa['Epoch Osculation']\n",
        "del nasa['Perihelion Time']"
      ]
    },
    {
      "cell_type": "code",
      "execution_count": null,
      "id": "bdf29a92",
      "metadata": {
        "id": "bdf29a92",
        "outputId": "435e4b0b-1b19-41ab-ef88-23956325bf27"
      },
      "outputs": [
        {
          "data": {
            "text/html": [
              "<div>\n",
              "<style scoped>\n",
              "    .dataframe tbody tr th:only-of-type {\n",
              "        vertical-align: middle;\n",
              "    }\n",
              "\n",
              "    .dataframe tbody tr th {\n",
              "        vertical-align: top;\n",
              "    }\n",
              "\n",
              "    .dataframe thead th {\n",
              "        text-align: right;\n",
              "    }\n",
              "</style>\n",
              "<table border=\"1\" class=\"dataframe\">\n",
              "  <thead>\n",
              "    <tr style=\"text-align: right;\">\n",
              "      <th></th>\n",
              "      <th>Absolute Magnitude</th>\n",
              "      <th>Est Dia in KM(min)</th>\n",
              "      <th>Est Dia in KM(max)</th>\n",
              "      <th>Est Dia in M(min)</th>\n",
              "      <th>Relative Velocity km per hr</th>\n",
              "      <th>Miss Dist.(kilometers)</th>\n",
              "      <th>Miss Dist.(miles)</th>\n",
              "      <th>Orbit ID</th>\n",
              "      <th>Orbit Uncertainity</th>\n",
              "      <th>Minimum Orbit Intersection</th>\n",
              "      <th>...</th>\n",
              "      <th>Semi Major Axis</th>\n",
              "      <th>Inclination</th>\n",
              "      <th>Asc Node Longitude</th>\n",
              "      <th>Orbital Period</th>\n",
              "      <th>Perihelion Distance</th>\n",
              "      <th>Perihelion Arg</th>\n",
              "      <th>Aphelion Dist</th>\n",
              "      <th>Mean Anomaly</th>\n",
              "      <th>Mean Motion</th>\n",
              "      <th>Hazardous</th>\n",
              "    </tr>\n",
              "  </thead>\n",
              "  <tbody>\n",
              "    <tr>\n",
              "      <th>0</th>\n",
              "      <td>21.6</td>\n",
              "      <td>0.127220</td>\n",
              "      <td>0.284472</td>\n",
              "      <td>127.219879</td>\n",
              "      <td>22017.003799</td>\n",
              "      <td>62753692.0</td>\n",
              "      <td>38993336.0</td>\n",
              "      <td>17</td>\n",
              "      <td>5</td>\n",
              "      <td>0.025282</td>\n",
              "      <td>...</td>\n",
              "      <td>1.407011</td>\n",
              "      <td>6.025981</td>\n",
              "      <td>314.373913</td>\n",
              "      <td>609.599786</td>\n",
              "      <td>0.808259</td>\n",
              "      <td>57.257470</td>\n",
              "      <td>2.005764</td>\n",
              "      <td>264.837533</td>\n",
              "      <td>0.590551</td>\n",
              "      <td>True</td>\n",
              "    </tr>\n",
              "    <tr>\n",
              "      <th>1</th>\n",
              "      <td>21.3</td>\n",
              "      <td>0.146068</td>\n",
              "      <td>0.326618</td>\n",
              "      <td>146.067964</td>\n",
              "      <td>65210.346095</td>\n",
              "      <td>57298148.0</td>\n",
              "      <td>35603420.0</td>\n",
              "      <td>21</td>\n",
              "      <td>3</td>\n",
              "      <td>0.186935</td>\n",
              "      <td>...</td>\n",
              "      <td>1.107776</td>\n",
              "      <td>28.412996</td>\n",
              "      <td>136.717242</td>\n",
              "      <td>425.869294</td>\n",
              "      <td>0.718200</td>\n",
              "      <td>313.091975</td>\n",
              "      <td>1.497352</td>\n",
              "      <td>173.741112</td>\n",
              "      <td>0.845330</td>\n",
              "      <td>False</td>\n",
              "    </tr>\n",
              "    <tr>\n",
              "      <th>2</th>\n",
              "      <td>20.3</td>\n",
              "      <td>0.231502</td>\n",
              "      <td>0.517654</td>\n",
              "      <td>231.502122</td>\n",
              "      <td>27326.560182</td>\n",
              "      <td>7622911.5</td>\n",
              "      <td>4736657.5</td>\n",
              "      <td>22</td>\n",
              "      <td>0</td>\n",
              "      <td>0.043058</td>\n",
              "      <td>...</td>\n",
              "      <td>1.458824</td>\n",
              "      <td>4.237961</td>\n",
              "      <td>259.475979</td>\n",
              "      <td>643.580228</td>\n",
              "      <td>0.950791</td>\n",
              "      <td>248.415038</td>\n",
              "      <td>1.966857</td>\n",
              "      <td>292.893654</td>\n",
              "      <td>0.559371</td>\n",
              "      <td>True</td>\n",
              "    </tr>\n",
              "    <tr>\n",
              "      <th>3</th>\n",
              "      <td>27.4</td>\n",
              "      <td>0.008801</td>\n",
              "      <td>0.019681</td>\n",
              "      <td>8.801465</td>\n",
              "      <td>40225.948191</td>\n",
              "      <td>42683616.0</td>\n",
              "      <td>26522368.0</td>\n",
              "      <td>7</td>\n",
              "      <td>6</td>\n",
              "      <td>0.005512</td>\n",
              "      <td>...</td>\n",
              "      <td>1.255903</td>\n",
              "      <td>7.905894</td>\n",
              "      <td>57.173266</td>\n",
              "      <td>514.082140</td>\n",
              "      <td>0.983902</td>\n",
              "      <td>18.707701</td>\n",
              "      <td>1.527904</td>\n",
              "      <td>68.741007</td>\n",
              "      <td>0.700277</td>\n",
              "      <td>False</td>\n",
              "    </tr>\n",
              "    <tr>\n",
              "      <th>4</th>\n",
              "      <td>21.6</td>\n",
              "      <td>0.127220</td>\n",
              "      <td>0.284472</td>\n",
              "      <td>127.219879</td>\n",
              "      <td>35426.991794</td>\n",
              "      <td>61010824.0</td>\n",
              "      <td>37910368.0</td>\n",
              "      <td>25</td>\n",
              "      <td>1</td>\n",
              "      <td>0.034798</td>\n",
              "      <td>...</td>\n",
              "      <td>1.225615</td>\n",
              "      <td>16.793382</td>\n",
              "      <td>84.629307</td>\n",
              "      <td>495.597821</td>\n",
              "      <td>0.967687</td>\n",
              "      <td>158.263596</td>\n",
              "      <td>1.483543</td>\n",
              "      <td>135.142133</td>\n",
              "      <td>0.726395</td>\n",
              "      <td>True</td>\n",
              "    </tr>\n",
              "    <tr>\n",
              "      <th>5</th>\n",
              "      <td>19.6</td>\n",
              "      <td>0.319562</td>\n",
              "      <td>0.714562</td>\n",
              "      <td>319.561887</td>\n",
              "      <td>38911.838251</td>\n",
              "      <td>58759768.0</td>\n",
              "      <td>36511628.0</td>\n",
              "      <td>40</td>\n",
              "      <td>1</td>\n",
              "      <td>0.272213</td>\n",
              "      <td>...</td>\n",
              "      <td>1.323532</td>\n",
              "      <td>17.927751</td>\n",
              "      <td>178.971951</td>\n",
              "      <td>556.160556</td>\n",
              "      <td>0.577800</td>\n",
              "      <td>198.145969</td>\n",
              "      <td>2.069265</td>\n",
              "      <td>354.237368</td>\n",
              "      <td>0.647295</td>\n",
              "      <td>False</td>\n",
              "    </tr>\n",
              "    <tr>\n",
              "      <th>6</th>\n",
              "      <td>19.6</td>\n",
              "      <td>0.319562</td>\n",
              "      <td>0.714562</td>\n",
              "      <td>319.561887</td>\n",
              "      <td>38911.829716</td>\n",
              "      <td>58759532.0</td>\n",
              "      <td>36511480.0</td>\n",
              "      <td>43</td>\n",
              "      <td>1</td>\n",
              "      <td>0.272213</td>\n",
              "      <td>...</td>\n",
              "      <td>1.323532</td>\n",
              "      <td>17.927748</td>\n",
              "      <td>178.971953</td>\n",
              "      <td>556.160544</td>\n",
              "      <td>0.577800</td>\n",
              "      <td>198.145960</td>\n",
              "      <td>2.069265</td>\n",
              "      <td>354.237396</td>\n",
              "      <td>0.647295</td>\n",
              "      <td>False</td>\n",
              "    </tr>\n",
              "    <tr>\n",
              "      <th>7</th>\n",
              "      <td>19.2</td>\n",
              "      <td>0.384198</td>\n",
              "      <td>0.859093</td>\n",
              "      <td>384.197891</td>\n",
              "      <td>87918.782382</td>\n",
              "      <td>19324928.0</td>\n",
              "      <td>12007954.0</td>\n",
              "      <td>22</td>\n",
              "      <td>0</td>\n",
              "      <td>0.098758</td>\n",
              "      <td>...</td>\n",
              "      <td>1.237475</td>\n",
              "      <td>34.695127</td>\n",
              "      <td>112.562984</td>\n",
              "      <td>502.808758</td>\n",
              "      <td>0.680905</td>\n",
              "      <td>288.374651</td>\n",
              "      <td>1.794045</td>\n",
              "      <td>186.776932</td>\n",
              "      <td>0.715978</td>\n",
              "      <td>False</td>\n",
              "    </tr>\n",
              "    <tr>\n",
              "      <th>8</th>\n",
              "      <td>17.8</td>\n",
              "      <td>0.732074</td>\n",
              "      <td>1.636967</td>\n",
              "      <td>732.073989</td>\n",
              "      <td>62545.621813</td>\n",
              "      <td>53598364.0</td>\n",
              "      <td>33304478.0</td>\n",
              "      <td>100</td>\n",
              "      <td>0</td>\n",
              "      <td>0.109354</td>\n",
              "      <td>...</td>\n",
              "      <td>1.145551</td>\n",
              "      <td>22.215210</td>\n",
              "      <td>80.211132</td>\n",
              "      <td>447.837013</td>\n",
              "      <td>0.872705</td>\n",
              "      <td>353.422394</td>\n",
              "      <td>1.418397</td>\n",
              "      <td>182.236432</td>\n",
              "      <td>0.803864</td>\n",
              "      <td>False</td>\n",
              "    </tr>\n",
              "    <tr>\n",
              "      <th>9</th>\n",
              "      <td>21.5</td>\n",
              "      <td>0.133216</td>\n",
              "      <td>0.297879</td>\n",
              "      <td>133.215567</td>\n",
              "      <td>46438.594999</td>\n",
              "      <td>22709816.0</td>\n",
              "      <td>14111226.0</td>\n",
              "      <td>30</td>\n",
              "      <td>0</td>\n",
              "      <td>0.016907</td>\n",
              "      <td>...</td>\n",
              "      <td>0.876125</td>\n",
              "      <td>2.059577</td>\n",
              "      <td>2.613682</td>\n",
              "      <td>299.535161</td>\n",
              "      <td>0.393040</td>\n",
              "      <td>253.765937</td>\n",
              "      <td>1.359211</td>\n",
              "      <td>119.861382</td>\n",
              "      <td>1.201862</td>\n",
              "      <td>True</td>\n",
              "    </tr>\n",
              "  </tbody>\n",
              "</table>\n",
              "<p>10 rows × 22 columns</p>\n",
              "</div>"
            ],
            "text/plain": [
              "   Absolute Magnitude  Est Dia in KM(min)  Est Dia in KM(max)  \\\n",
              "0                21.6            0.127220            0.284472   \n",
              "1                21.3            0.146068            0.326618   \n",
              "2                20.3            0.231502            0.517654   \n",
              "3                27.4            0.008801            0.019681   \n",
              "4                21.6            0.127220            0.284472   \n",
              "5                19.6            0.319562            0.714562   \n",
              "6                19.6            0.319562            0.714562   \n",
              "7                19.2            0.384198            0.859093   \n",
              "8                17.8            0.732074            1.636967   \n",
              "9                21.5            0.133216            0.297879   \n",
              "\n",
              "   Est Dia in M(min)  Relative Velocity km per hr  Miss Dist.(kilometers)  \\\n",
              "0         127.219879                 22017.003799              62753692.0   \n",
              "1         146.067964                 65210.346095              57298148.0   \n",
              "2         231.502122                 27326.560182               7622911.5   \n",
              "3           8.801465                 40225.948191              42683616.0   \n",
              "4         127.219879                 35426.991794              61010824.0   \n",
              "5         319.561887                 38911.838251              58759768.0   \n",
              "6         319.561887                 38911.829716              58759532.0   \n",
              "7         384.197891                 87918.782382              19324928.0   \n",
              "8         732.073989                 62545.621813              53598364.0   \n",
              "9         133.215567                 46438.594999              22709816.0   \n",
              "\n",
              "   Miss Dist.(miles)  Orbit ID  Orbit Uncertainity  \\\n",
              "0         38993336.0        17                   5   \n",
              "1         35603420.0        21                   3   \n",
              "2          4736657.5        22                   0   \n",
              "3         26522368.0         7                   6   \n",
              "4         37910368.0        25                   1   \n",
              "5         36511628.0        40                   1   \n",
              "6         36511480.0        43                   1   \n",
              "7         12007954.0        22                   0   \n",
              "8         33304478.0       100                   0   \n",
              "9         14111226.0        30                   0   \n",
              "\n",
              "   Minimum Orbit Intersection  ...  Semi Major Axis  Inclination  \\\n",
              "0                    0.025282  ...         1.407011     6.025981   \n",
              "1                    0.186935  ...         1.107776    28.412996   \n",
              "2                    0.043058  ...         1.458824     4.237961   \n",
              "3                    0.005512  ...         1.255903     7.905894   \n",
              "4                    0.034798  ...         1.225615    16.793382   \n",
              "5                    0.272213  ...         1.323532    17.927751   \n",
              "6                    0.272213  ...         1.323532    17.927748   \n",
              "7                    0.098758  ...         1.237475    34.695127   \n",
              "8                    0.109354  ...         1.145551    22.215210   \n",
              "9                    0.016907  ...         0.876125     2.059577   \n",
              "\n",
              "   Asc Node Longitude  Orbital Period  Perihelion Distance  Perihelion Arg  \\\n",
              "0          314.373913      609.599786             0.808259       57.257470   \n",
              "1          136.717242      425.869294             0.718200      313.091975   \n",
              "2          259.475979      643.580228             0.950791      248.415038   \n",
              "3           57.173266      514.082140             0.983902       18.707701   \n",
              "4           84.629307      495.597821             0.967687      158.263596   \n",
              "5          178.971951      556.160556             0.577800      198.145969   \n",
              "6          178.971953      556.160544             0.577800      198.145960   \n",
              "7          112.562984      502.808758             0.680905      288.374651   \n",
              "8           80.211132      447.837013             0.872705      353.422394   \n",
              "9            2.613682      299.535161             0.393040      253.765937   \n",
              "\n",
              "   Aphelion Dist  Mean Anomaly  Mean Motion  Hazardous  \n",
              "0       2.005764    264.837533     0.590551       True  \n",
              "1       1.497352    173.741112     0.845330      False  \n",
              "2       1.966857    292.893654     0.559371       True  \n",
              "3       1.527904     68.741007     0.700277      False  \n",
              "4       1.483543    135.142133     0.726395       True  \n",
              "5       2.069265    354.237368     0.647295      False  \n",
              "6       2.069265    354.237396     0.647295      False  \n",
              "7       1.794045    186.776932     0.715978      False  \n",
              "8       1.418397    182.236432     0.803864      False  \n",
              "9       1.359211    119.861382     1.201862       True  \n",
              "\n",
              "[10 rows x 22 columns]"
            ]
          },
          "execution_count": 5,
          "metadata": {},
          "output_type": "execute_result"
        }
      ],
      "source": [
        "#getting top rows in a table\n",
        "nasa.head(10)"
      ]
    },
    {
      "cell_type": "code",
      "execution_count": null,
      "id": "a6fe1f11",
      "metadata": {
        "id": "a6fe1f11",
        "outputId": "7abc0cdd-c0e3-41f1-e317-50b35e71adad"
      },
      "outputs": [
        {
          "data": {
            "text/plain": [
              "<BarContainer object of 2 artists>"
            ]
          },
          "execution_count": 6,
          "metadata": {},
          "output_type": "execute_result"
        },
        {
          "data": {
            "image/png": "[encoded data removed]",
            "text/plain": [
              "<Figure size 432x288 with 1 Axes>"
            ]
          },
          "metadata": {
            "needs_background": "light"
          },
          "output_type": "display_data"
        }
      ],
      "source": [
        "import matplotlib.pyplot as plt\n",
        "true_samples = np.sum(nasa['Hazardous'] == True)\n",
        "false_samples = np.sum(nasa['Hazardous']==False)\n",
        "plt.bar([\"True\",\"False\"],height = [true_samples,false_samples])"
      ]
    },
    {
      "cell_type": "code",
      "execution_count": null,
      "id": "0305e1fc",
      "metadata": {
        "id": "0305e1fc",
        "outputId": "186b4cfe-387e-476c-e1d6-ebf68e3146f1"
      },
      "outputs": [
        {
          "data": {
            "text/plain": [
              "755"
            ]
          },
          "execution_count": 7,
          "metadata": {},
          "output_type": "execute_result"
        }
      ],
      "source": [
        "#Extracting out the True samples using boolean mask\n",
        "\n",
        "nasa_true_mask = nasa['Hazardous'] ==True\n",
        "nasa_true = nasa[nasa_true_mask]\n",
        "len(nasa_true)"
      ]
    },
    {
      "cell_type": "code",
      "execution_count": null,
      "id": "ae1a818a",
      "metadata": {
        "id": "ae1a818a",
        "outputId": "f9803293-2af9-483a-89a5-0ea3301e9f3c"
      },
      "outputs": [
        {
          "data": {
            "text/plain": [
              "(4687, 22)"
            ]
          },
          "execution_count": 8,
          "metadata": {},
          "output_type": "execute_result"
        }
      ],
      "source": [
        "np.array(nasa).shape"
      ]
    },
    {
      "cell_type": "code",
      "execution_count": null,
      "id": "6974232c",
      "metadata": {
        "id": "6974232c"
      },
      "outputs": [],
      "source": [
        "bootstrap = nasa_true.sample(3177,replace=True)\n",
        "    \n",
        "nasa = nasa.append(bootstrap)"
      ]
    },
    {
      "cell_type": "code",
      "execution_count": null,
      "id": "b9c9d074",
      "metadata": {
        "id": "b9c9d074",
        "outputId": "98b17cd7-6098-4b9d-86d5-59dd1cc24a53"
      },
      "outputs": [
        {
          "data": {
            "application/javascript": [
              "\n",
              "        if (window._pyforest_update_imports_cell) { window._pyforest_update_imports_cell('import sklearn'); }\n",
              "    "
            ],
            "text/plain": [
              "<IPython.core.display.Javascript object>"
            ]
          },
          "metadata": {},
          "output_type": "display_data"
        },
        {
          "data": {
            "application/javascript": [
              "\n",
              "        if (window._pyforest_update_imports_cell) { window._pyforest_update_imports_cell('import sklearn'); }\n",
              "    "
            ],
            "text/plain": [
              "<IPython.core.display.Javascript object>"
            ]
          },
          "metadata": {},
          "output_type": "display_data"
        }
      ],
      "source": [
        "from sklearn.preprocessing import StandardScaler\n",
        "X,y = nasa.iloc[:,0:21],nasa.iloc[:,21]\n",
        "\n",
        "Scaler = sklearn.preprocessing.StandardScaler()\n",
        "Scaler.fit(X)\n",
        "X = Scaler.transform(X)\n",
        "\n",
        "binary = sklearn.preprocessing.LabelBinarizer(pos_label=1,neg_label=0)\n",
        "lb = binary.fit(y)\n",
        "y = lb.transform(y)"
      ]
    },
    {
      "cell_type": "code",
      "execution_count": null,
      "id": "1762ff19",
      "metadata": {
        "id": "1762ff19",
        "outputId": "ff851363-6fe8-4140-d56a-e1b41dbdd27c"
      },
      "outputs": [
        {
          "data": {
            "application/javascript": [
              "\n",
              "        if (window._pyforest_update_imports_cell) { window._pyforest_update_imports_cell('from sklearn import svm\\nimport sklearn\\nfrom sklearn.model_selection import train_test_split'); }\n",
              "    "
            ],
            "text/plain": [
              "<IPython.core.display.Javascript object>"
            ]
          },
          "metadata": {},
          "output_type": "display_data"
        }
      ],
      "source": [
        "x_train,x_test,y_train,y_test = train_test_split(X,y,test_size=0.4,shuffle=True)"
      ]
    },
    {
      "cell_type": "code",
      "execution_count": null,
      "id": "e8fee8ba",
      "metadata": {
        "id": "e8fee8ba"
      },
      "outputs": [],
      "source": [
        "from sklearn import svm\n",
        "\n",
        "svm = sklearn.svm.SVC().fit(x_train,y_train)"
      ]
    },
    {
      "cell_type": "code",
      "execution_count": null,
      "id": "96f8681a",
      "metadata": {
        "id": "96f8681a",
        "outputId": "6a79a1ac-fcde-45ed-fc79-822fc3eb5856"
      },
      "outputs": [
        {
          "name": "stdout",
          "output_type": "stream",
          "text": [
            "for svm classifier:  0.9577240940877304\n"
          ]
        }
      ],
      "source": [
        "print(\"for svm classifier: \",svm.score(x_test,y_test))"
      ]
    },
    {
      "cell_type": "code",
      "execution_count": null,
      "id": "c313ddc1",
      "metadata": {
        "id": "c313ddc1"
      },
      "outputs": [],
      "source": [
        "y_pred =svm.predict(x_test)"
      ]
    },
    {
      "cell_type": "code",
      "execution_count": null,
      "id": "9aa9b40e",
      "metadata": {
        "id": "9aa9b40e",
        "outputId": "d4d9a3e7-3287-44bb-b636-4eb4692a4413"
      },
      "outputs": [
        {
          "name": "stdout",
          "output_type": "stream",
          "text": [
            "0.9577240940877304\n"
          ]
        }
      ],
      "source": [
        "from sklearn import metrics\n",
        "cm = confusion_matrix(y_test, y_pred)\n",
        "accuracy=metrics.accuracy_score(y_test, y_pred)\n",
        "print(accuracy)"
      ]
    },
    {
      "cell_type": "code",
      "execution_count": null,
      "id": "86b9e0ea",
      "metadata": {
        "id": "86b9e0ea",
        "outputId": "583ca25e-ad3c-4dcb-8269-ee2a4f8dc8a3"
      },
      "outputs": [
        {
          "data": {
            "text/plain": [
              "<matplotlib.colorbar.Colorbar at 0x114b248e250>"
            ]
          },
          "execution_count": 38,
          "metadata": {},
          "output_type": "execute_result"
        },
        {
          "data": {
            "image/png": "[encoded data removed]",
            "text/plain": [
              "<Figure size 288x288 with 2 Axes>"
            ]
          },
          "metadata": {
            "needs_background": "light"
          },
          "output_type": "display_data"
        }
      ],
      "source": [
        "plt.matshow(cm, cmap=plt.cm.Blues)\n",
        "plt.colorbar()"
      ]
    },
    {
      "cell_type": "code",
      "execution_count": null,
      "id": "d6e06b81",
      "metadata": {
        "id": "d6e06b81"
      },
      "outputs": [],
      "source": []
    }
  ],
  "metadata": {
    "kernelspec": {
      "display_name": "Python 3 (ipykernel)",
      "language": "python",
      "name": "python3"
    },
    "language_info": {
      "codemirror_mode": {
        "name": "ipython",
        "version": 3
      },
      "file_extension": ".py",
      "mimetype": "text/x-python",
      "name": "python",
      "nbconvert_exporter": "python",
      "pygments_lexer": "ipython3",
      "version": "3.9.12"
    },
    "colab": {
      "provenance": []
    }
  },
  "nbformat": 4,
  "nbformat_minor": 5
}